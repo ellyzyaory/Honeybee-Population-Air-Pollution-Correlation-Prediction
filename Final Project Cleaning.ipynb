{
 "cells": [
  {
   "cell_type": "code",
   "execution_count": 1,
   "metadata": {},
   "outputs": [],
   "source": [
    "import numpy as np\n",
    "import pandas as pd\n",
    "import matplotlib.pyplot as plt"
   ]
  },
  {
   "cell_type": "code",
   "execution_count": 2,
   "metadata": {},
   "outputs": [],
   "source": [
    "# CLEANING DATA\n",
    "# read csv files\n",
    "honey_dataset = pd.read_csv(\"honey.csv\")\n",
    "pollution_dataset = pd.read_csv(\"pollution_us_2000_2016.csv\")"
   ]
  },
  {
   "cell_type": "code",
   "execution_count": 3,
   "metadata": {},
   "outputs": [],
   "source": [
    "# show the sum of null in each column (flagging)\n",
    "# print(pollution_dataset.isnull().sum())\n",
    "# print(honey_dataset.isna().sum())\n",
    "\n",
    "# Missing values\n",
    "# pollution us - S02 AQI 872907, CO AQI 873323\n",
    "\n",
    "# fill missing values with mean values (filling)\n",
    "mean = pollution_dataset[\"SO2 AQI\"].mean()\n",
    "mean2 = pollution_dataset[\"CO AQI\"].mean()\n",
    "\n",
    "pollution_dataset[\"SO2 AQI\"].fillna(mean, inplace=True)\n",
    "pollution_dataset[\"CO AQI\"].fillna(mean2, inplace=True)\n",
    "\n",
    "# No duplicates for honey and pollution datasets\n",
    "# duplicates = pollution_dataset.duplicated(keep=False).sum()\n",
    "\n",
    "# Drop data that is below 2000 and above 2016\n",
    "# honey dataset\n",
    "honey_dataset[\"year\"] = honey_dataset[\"year\"].astype(\"int\")\n",
    "honey_index = honey_dataset[(honey_dataset[\"year\"] < 2000) | (honey_dataset[\"year\"] > 2016)].index\n",
    "honey_dataset = honey_dataset.drop(honey_index)\n",
    "\n",
    "# pollution dataset\n",
    "pollution_dataset[\"Date Local\"] = pd.to_datetime(pollution_dataset[\"Date Local\"])\n",
    "pollution_dataset[\"Year\"] = pollution_dataset[\"Date Local\"].dt.year\n",
    "pollution_dataset[\"Year\"] = pollution_dataset[\"Year\"].astype(\"int\")\n",
    "\n",
    "# sort by state name\n",
    "honey_dataset.sort_values(by=\"state\")\n",
    "pollution_dataset.sort_values(by=\"State\")\n",
    "\n",
    "# Group by state & year\n",
    "# honey\n",
    "honey_stats = {\"numcol\": \"mean\"}\n",
    "honey_dataset = honey_dataset.groupby([\"year\", \"state\"]).agg(honey_stats).reset_index()\n",
    "\n",
    "# pollution\n",
    "pollution_stats = {\"NO2 AQI\": \"mean\", \"O3 AQI\": \"mean\", \"SO2 AQI\": \"mean\", \"CO AQI\": \"mean\"}\n",
    "pollution_dataset = pollution_dataset.groupby([\"Year\", \"State\"]).agg(pollution_stats).reset_index()"
   ]
  },
  {
   "cell_type": "code",
   "execution_count": 4,
   "metadata": {},
   "outputs": [],
   "source": [
    "# Used to check the amount of duplicates within the dataframe based on the state column\n",
    "temp_honey = honey_dataset.pivot_table(columns='state', aggfunc='size').reset_index()\n",
    "\n",
    "#Rename the 0 column to count\n",
    "temp_honey = temp_honey.rename(columns={0: 'count'})\n",
    "\n",
    "#Locates and store the states which have a count lower than 17 \n",
    "drop_honey_values = temp_honey.loc[temp_honey['count'] < 17]\n",
    "\n",
    "#Take out states which are present within drop_honey_values from the honey_dataset\n",
    "honey_dataset = honey_dataset[~honey_dataset.state.isin(drop_honey_values.state)]\n",
    "\n",
    "\n",
    "# Used to check the amount of duplicates within the dataframe based on the state column\n",
    "temp_pollution = pollution_dataset.pivot_table(columns='State', aggfunc='size').reset_index()\n",
    "\n",
    "#Rename the 0 column to count\n",
    "temp_pollution = temp_pollution.rename(columns={0: 'count'})\n",
    "\n",
    "#Locates and store the states which have a count lower than 17\n",
    "drop_pollution_values = temp_pollution.loc[temp_pollution['count'] < 17]\n",
    "\n",
    "#Take out states which are present within drop_pollution_values from the pollution_dataset\n",
    "pollution_dataset = pollution_dataset[~pollution_dataset.State.isin(drop_pollution_values.State)]\n",
    "\n",
    "#Finds the common columns between the 2 dataframes based on state\n",
    "common_cols = [col for col in set(honey_dataset.state).intersection(pollution_dataset.State)]\n",
    "\n",
    "#Takes out states which are not in the common_cols from honey_dataset\n",
    "honey_dataset = honey_dataset[honey_dataset.state.isin(common_cols)]\n",
    "\n",
    "#Takes out states which are not in the common_cols from pollution_dataset\n",
    "pollution_dataset = pollution_dataset[pollution_dataset.State.isin(common_cols)]"
   ]
  },
  {
   "cell_type": "code",
   "execution_count": 21,
   "metadata": {},
   "outputs": [],
   "source": [
    "honey_dataset = honey_dataset.reset_index(drop=True)\n",
    "pollution_dataset = pollution_dataset.reset_index(drop=True)"
   ]
  },
  {
   "cell_type": "code",
   "execution_count": 22,
   "metadata": {},
   "outputs": [],
   "source": [
    "#Convert the dataframes into csv\n",
    "honey_dataset.to_csv('cleaned_honey.csv')\n",
    "pollution_dataset.to_csv('cleaned_pollution.csv')"
   ]
  },
  {
   "cell_type": "code",
   "execution_count": null,
   "metadata": {},
   "outputs": [],
   "source": []
  }
 ],
 "metadata": {
  "kernelspec": {
   "display_name": "Python 3",
   "language": "python",
   "name": "python3"
  },
  "language_info": {
   "codemirror_mode": {
    "name": "ipython",
    "version": 3
   },
   "file_extension": ".py",
   "mimetype": "text/x-python",
   "name": "python",
   "nbconvert_exporter": "python",
   "pygments_lexer": "ipython3",
   "version": "3.8.3"
  }
 },
 "nbformat": 4,
 "nbformat_minor": 4
}
